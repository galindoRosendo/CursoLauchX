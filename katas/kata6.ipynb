{
 "cells": [
  {
   "cell_type": "code",
   "execution_count": 6,
   "metadata": {},
   "outputs": [
    {
     "name": "stdout",
     "output_type": "stream",
     "text": [
      "8\n",
      "Pluton\n"
     ]
    }
   ],
   "source": [
    "## Listas\n",
    "\n",
    "planets = [\n",
    "    'Mercurio',\n",
    "    'Venus',\n",
    "    'Tierra',\n",
    "    'Marte',\n",
    "    'Jupiter',\n",
    "    'Saturno',\n",
    "    'Urano',\n",
    "    'Neptuno'\n",
    "    ]\n",
    "print(len(planets))\n",
    "\n",
    "planets.append('Pluton')\n",
    "\n",
    "print(planets[-1])"
   ]
  },
  {
   "cell_type": "code",
   "execution_count": 7,
   "metadata": {},
   "outputs": [
    {
     "name": "stdout",
     "output_type": "stream",
     "text": [
      "planetas mas cercanos Tierra\n",
      "['Mercurio', 'Venus']\n",
      "planetas mas lejanos Tierra\n",
      "['Marte', 'Jupiter', 'Saturno', 'Urano', 'Neptuno']\n"
     ]
    }
   ],
   "source": [
    "## Listas\n",
    "\n",
    "planets = [\n",
    "    'Mercurio',\n",
    "    'Venus',\n",
    "    'Tierra',\n",
    "    'Marte',\n",
    "    'Jupiter',\n",
    "    'Saturno',\n",
    "    'Urano',\n",
    "    'Neptuno'\n",
    "    ]\n",
    "\n",
    "planeta = input('Que planeta buscamos? (Inicia con mayuscula)')\n",
    "\n",
    "planeta_indice = planets.index(planeta)\n",
    "\n",
    "# planetas más cercanos al sol\n",
    "\n",
    "print('planetas mas cercanos ' + planeta)\n",
    "print(planets[0:planeta_indice])\n",
    "\n",
    "# planetas más lejanos al sol\n",
    "\n",
    "print('planetas mas lejanos ' + planeta)\n",
    "print(planets[planeta_indice + 1:])"
   ]
  }
 ],
 "metadata": {
  "interpreter": {
   "hash": "b89b5cfaba6639976dc87ff2fec6d58faec662063367e2c229c520fe71072417"
  },
  "kernelspec": {
   "display_name": "Python 3.10.1 64-bit",
   "language": "python",
   "name": "python3"
  },
  "language_info": {
   "codemirror_mode": {
    "name": "ipython",
    "version": 3
   },
   "file_extension": ".py",
   "mimetype": "text/x-python",
   "name": "python",
   "nbconvert_exporter": "python",
   "pygments_lexer": "ipython3",
   "version": "3.10.1"
  },
  "orig_nbformat": 4
 },
 "nbformat": 4,
 "nbformat_minor": 2
}
