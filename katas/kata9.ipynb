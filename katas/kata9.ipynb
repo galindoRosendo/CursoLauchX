{
 "cells": [
  {
   "cell_type": "code",
   "execution_count": 3,
   "metadata": {},
   "outputs": [
    {
     "name": "stdout",
     "output_type": "stream",
     "text": [
      "Fuel Report:\n",
      "        Total Average: 60.0%\n",
      "        Main tank: 100%\n",
      "        External tank: 50%\n",
      "        Hydrogen tank: 30% \n",
      "        \n"
     ]
    }
   ],
   "source": [
    "## Funciones\n",
    "\n",
    "def lecturaCombustible(mainTank, secondTank, thirdTank):\n",
    "    return f\"\"\"Fuel Report:\n",
    "        Total Average: {calculoPromedio(mainTank, secondTank, thirdTank)}%\n",
    "        Main tank: {mainTank}%\n",
    "        External tank: {secondTank}%\n",
    "        Hydrogen tank: {thirdTank}% \n",
    "        \"\"\"\n",
    "\n",
    "def calculoPromedio(*args):\n",
    "    cantidad = len(args)\n",
    "    suma = 0\n",
    "    for arg in args:\n",
    "        suma = suma + arg\n",
    "    return suma / cantidad\n",
    "\n",
    "print(lecturaCombustible(100,50,30))\n"
   ]
  },
  {
   "cell_type": "code",
   "execution_count": 9,
   "metadata": {},
   "outputs": [
    {
     "name": "stdout",
     "output_type": "stream",
     "text": [
      "\n",
      "    Mission to Luna\n",
      "    Total travel time: 65 minutes\n",
      "    Total fuel left: 500000 gallons\n",
      "    \n",
      "\n",
      "    Mission to Luna\n",
      "    Total travel time: 74 minutes\n",
      "    Total fuel left: 500000 gallons\n",
      "    \n",
      "\n",
      "    Mission to Luna\n",
      "    Total travel time: 74 minutes\n",
      "    Total fuel left: 500000 gallons\n",
      "    main tank --> 300000 gallons left\n",
      "external tank --> 200000 gallons left\n",
      "\n"
     ]
    }
   ],
   "source": [
    "## Funciones y parametros opcionales\n",
    "\n",
    "# Función con un informe preciso de la misión. Considera hora de prelanzamiento, tiempo de vuelo, destino, tanque externo y tanque interno\n",
    "\n",
    "def misionReporte(preLanzamientoTiempo, tiempoVuelo, destino, tanqueExterno, tanquePrincipal):\n",
    "    return f\"\"\"\n",
    "    Mission to {destino}\n",
    "    Total travel time: {preLanzamientoTiempo + tiempoVuelo} minutes\n",
    "    Total fuel left: {tanqueExterno + tanquePrincipal} gallons\n",
    "    \"\"\"\n",
    "\n",
    "print(misionReporte(14, 51, \"Luna\", 200000, 300000))\n",
    "\n",
    "def misionReporte2(destino, *tiempos, **tanques):\n",
    "    return f\"\"\"\n",
    "    Mission to {destino}\n",
    "    Total travel time: {sum(tiempos)} minutes\n",
    "    Total fuel left: {sum(tanques.values())} gallons\n",
    "    \"\"\"\n",
    "\n",
    "print(misionReporte2(\"Luna\", 8, 11, 55, main=300000, external=200000))\n",
    "\n",
    "\n",
    "def misionReporte3(destino, *tiempos, **tanques):\n",
    "    reporte = f\"\"\"\n",
    "    Mission to {destino}\n",
    "    Total travel time: {sum(tiempos)} minutes\n",
    "    Total fuel left: {sum(tanques.values())} gallons\n",
    "    \"\"\"\n",
    "    for nombreTanque, contenido in tanques.items():\n",
    "        reporte += f\"{nombreTanque} tank --> {contenido} gallons left\\n\"\n",
    "    return reporte\n",
    "\n",
    "print(misionReporte3(\"Luna\", 8, 11, 55, main=300000, external=200000))\n",
    "\n",
    "\n"
   ]
  }
 ],
 "metadata": {
  "interpreter": {
   "hash": "63fd5069d213b44bf678585dea6b12cceca9941eaf7f819626cde1f2670de90d"
  },
  "kernelspec": {
   "display_name": "Python 3.9.1 64-bit",
   "language": "python",
   "name": "python3"
  },
  "language_info": {
   "codemirror_mode": {
    "name": "ipython",
    "version": 3
   },
   "file_extension": ".py",
   "mimetype": "text/x-python",
   "name": "python",
   "nbconvert_exporter": "python",
   "pygments_lexer": "ipython3",
   "version": "3.9.1"
  },
  "orig_nbformat": 4
 },
 "nbformat": 4,
 "nbformat_minor": 2
}
