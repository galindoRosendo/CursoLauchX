{
 "cells": [
  {
   "cell_type": "code",
   "execution_count": 3,
   "metadata": {},
   "outputs": [
    {
     "name": "stdout",
     "output_type": "stream",
     "text": [
      "el planeta Marte tiene 2 lunas\n",
      "el planeta Marte tiene 6752 kms\n"
     ]
    }
   ],
   "source": [
    "## Diccionarios\n",
    "\n",
    "planeta = {\n",
    "    'nombre': 'Marte',\n",
    "    'lunas': 2,\n",
    "    'circunferencia (kms)': {\n",
    "        'polar': 6752,\n",
    "        'equatorial': 6792\n",
    "    }\n",
    "}\n",
    "\n",
    "print(f\"el planeta {planeta['nombre']} tiene {planeta['lunas']} lunas\")\n",
    "\n",
    "print(f\"el planeta {planeta['nombre']} tiene {planeta['circunferencia (kms)']['polar']} de circunferencia\")"
   ]
  },
  {
   "cell_type": "code",
   "execution_count": 5,
   "metadata": {},
   "outputs": [
    {
     "name": "stdout",
     "output_type": "stream",
     "text": [
      "17.833333333333332\n"
     ]
    }
   ],
   "source": [
    "## Diccionarios y calculos dinamicos\n",
    "\n",
    "# Planets and moons\n",
    "\n",
    "lunasPlanetas = {\n",
    "    'mercury': 0,\n",
    "    'venus': 0,\n",
    "    'earth': 1,\n",
    "    'mars': 2,\n",
    "    'jupiter': 79,\n",
    "    'saturn': 82,\n",
    "    'uranus': 27,\n",
    "    'neptune': 14,\n",
    "    'pluto': 5,\n",
    "    'haumea': 2,\n",
    "    'makemake': 1,\n",
    "    'eris': 1\n",
    "}\n",
    "\n",
    "lunas = lunasPlanetas.values()\n",
    "\n",
    "planetas = len(lunasPlanetas.keys())\n",
    "\n",
    "totalLunas = 0\n",
    "\n",
    "for luna in lunas:\n",
    "    totalLunas = totalLunas + luna\n",
    "    \n",
    "promedio = totalLunas / planetas\n",
    "\n",
    "print(promedio)"
   ]
  }
 ],
 "metadata": {
  "interpreter": {
   "hash": "63fd5069d213b44bf678585dea6b12cceca9941eaf7f819626cde1f2670de90d"
  },
  "kernelspec": {
   "display_name": "Python 3.9.1 64-bit",
   "language": "python",
   "name": "python3"
  },
  "language_info": {
   "codemirror_mode": {
    "name": "ipython",
    "version": 3
   },
   "file_extension": ".py",
   "mimetype": "text/x-python",
   "name": "python",
   "nbconvert_exporter": "python",
   "pygments_lexer": "ipython3",
   "version": "3.9.1"
  },
  "orig_nbformat": 4
 },
 "nbformat": 4,
 "nbformat_minor": 2
}
