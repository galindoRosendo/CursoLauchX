{
 "cells": [
  {
   "cell_type": "code",
   "execution_count": 2,
   "metadata": {},
   "outputs": [
    {
     "name": "stdout",
     "output_type": "stream",
     "text": [
      "Distancia: 628949330\n",
      "Distancia en millas: 390577533.93\n"
     ]
    }
   ],
   "source": [
    "## Operadores aritmeticos\n",
    "\n",
    "# Crear variables para almacenar las dos distancias\n",
    "# ¡Asegúrate de quitar las comas!\n",
    "\n",
    "distanciaPlanetaA = 149597870\n",
    "distanciaPlanetaB = 778547200\n",
    "\n",
    "distanciaEntrePlanetas = distanciaPlanetaB - distanciaPlanetaA\n",
    "\n",
    "print('Distancia: ' + str(distanciaEntrePlanetas))\n",
    "\n",
    "distanciaEntrePlanetasMillas = distanciaEntrePlanetas * 0.621\n",
    "\n",
    "print('Distancia en millas: ' + str(distanciaEntrePlanetasMillas))"
   ]
  },
  {
   "cell_type": "code",
   "execution_count": 7,
   "metadata": {},
   "outputs": [
    {
     "name": "stdout",
     "output_type": "stream",
     "text": [
      "Distancia: 20\n",
      "Distancia en millas: 12.42\n"
     ]
    }
   ],
   "source": [
    "## Conversion de cadenas\n",
    "distanciaPlanetaA = int(input('Distancia de planeta A:'))\n",
    "distanciaPlanetaB = int(input('Distancia de planeta B:'))\n",
    "\n",
    "distanciaEntrePlanetas = abs(distanciaPlanetaB - distanciaPlanetaA)\n",
    "\n",
    "print('Distancia: ' + str(distanciaEntrePlanetas))\n",
    "\n",
    "distanciaEntrePlanetasMillas = distanciaEntrePlanetas * 0.621\n",
    "\n",
    "print('Distancia en millas: ' + str(distanciaEntrePlanetasMillas))\n"
   ]
  }
 ],
 "metadata": {
  "interpreter": {
   "hash": "b89b5cfaba6639976dc87ff2fec6d58faec662063367e2c229c520fe71072417"
  },
  "kernelspec": {
   "display_name": "Python 3.10.1 64-bit",
   "language": "python",
   "name": "python3"
  },
  "language_info": {
   "codemirror_mode": {
    "name": "ipython",
    "version": 3
   },
   "file_extension": ".py",
   "mimetype": "text/x-python",
   "name": "python",
   "nbconvert_exporter": "python",
   "pygments_lexer": "ipython3",
   "version": "3.10.1"
  },
  "orig_nbformat": 4
 },
 "nbformat": 4,
 "nbformat_minor": 2
}
