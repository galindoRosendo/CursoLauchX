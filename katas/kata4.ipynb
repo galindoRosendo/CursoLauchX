{
 "cells": [
  {
   "cell_type": "code",
   "execution_count": 5,
   "metadata": {},
   "outputs": [
    {
     "name": "stdout",
     "output_type": "stream",
     "text": [
      " On average, the Moon moves 4cm away from the Earth every year\n",
      " The highest daylight temperature of the Moon is 127 C\n",
      "======================= Replacing C with Celsius =======================\n",
      " The highest daylight temperature of the Moon is 127 Celsius\n"
     ]
    }
   ],
   "source": [
    "## Cadenas\n",
    "text = \"\"\"Interesting facts about the Moon. The Moon is Earth's only satellite. There are several interesting facts about the Moon and how it affects life here on Earth. On average, the Moon moves 4cm away from the Earth every year. This yearly drift is not significant enough to cause immediate effects on Earth. The highest daylight temperature of the Moon is 127 C.\"\"\"\n",
    "\n",
    "oraciones = text.split('.')\n",
    "\n",
    "palabrasClave = ['average', 'temperature', 'distance']\n",
    "\n",
    "for item in oraciones:\n",
    "    for word in palabrasClave:\n",
    "        if word in item:\n",
    "            print(item)\n",
    "            break\n",
    "\n",
    "print('======================= Replacing C with Celsius =======================')\n",
    "\n",
    "\n",
    "for item in oraciones:\n",
    "    if 'C' in item:\n",
    "        print(item.replace('C', 'Celsius'))"
   ]
  },
  {
   "cell_type": "code",
   "execution_count": 9,
   "metadata": {},
   "outputs": [
    {
     "name": "stdout",
     "output_type": "stream",
     "text": [
      "Gravity Facts about Moon \n",
      "-------------------------------------------------------------------------------\n",
      "Planet Name: Earth \n",
      "Gravity on Moon: 1.6199999999999999 m/s2\n",
      "\n",
      "Gravity Facts about: Marte \n",
      "-------------------------------------------------------------------------------\n",
      "Planet Name: Ganímedes\n",
      "nGravity on Marte : 0.00143 m/s2\n",
      "\n"
     ]
    }
   ],
   "source": [
    "# Formateo de cadenas\n",
    "\n",
    "# Datos con los que vas a trabajar\n",
    "name = \"Moon\"\n",
    "gravity = 0.00162 # in kms\n",
    "planet = \"Earth\"\n",
    "\n",
    "titulo = f'Gravity Facts about {name.title()} \\n-------------------------------------------------------------------------------\\n'\n",
    "\n",
    "cuerpo = f'Planet Name: {planet.title()} \\nGravity on {name.title()}: {gravity*1000} m/s2'\n",
    "\n",
    "resultado = titulo + cuerpo\n",
    "\n",
    "print(resultado)\n",
    "\n",
    "name = 'Marte '\n",
    "gravity  = 0.00143\n",
    "planet = 'Ganímedes'\n",
    "\n",
    "nuevo_cuerpo = \"\"\"\n",
    "Gravity Facts about: {name}\n",
    "-------------------------------------------------------------------------------\n",
    "Planet Name: {planet}\n",
    "nGravity on {name}: {gravity} m/s2\n",
    "\"\"\"\n",
    "print(nuevo_cuerpo.format(name=name, planet=planet, gravity=gravity))"
   ]
  }
 ],
 "metadata": {
  "interpreter": {
   "hash": "b89b5cfaba6639976dc87ff2fec6d58faec662063367e2c229c520fe71072417"
  },
  "kernelspec": {
   "display_name": "Python 3.10.1 64-bit",
   "language": "python",
   "name": "python3"
  },
  "language_info": {
   "codemirror_mode": {
    "name": "ipython",
    "version": 3
   },
   "file_extension": ".py",
   "mimetype": "text/x-python",
   "name": "python",
   "nbconvert_exporter": "python",
   "pygments_lexer": "ipython3",
   "version": "3.10.1"
  },
  "orig_nbformat": 4
 },
 "nbformat": 4,
 "nbformat_minor": 2
}
